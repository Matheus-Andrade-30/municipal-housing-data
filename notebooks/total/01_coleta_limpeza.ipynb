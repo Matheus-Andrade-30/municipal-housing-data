{
 "cells": [
  {
   "cell_type": "markdown",
   "id": "1cfc4482",
   "metadata": {},
   "source": [
    "# 1.1 Importando bibliotecas"
   ]
  },
  {
   "cell_type": "code",
   "execution_count": 2,
   "id": "7f19615f",
   "metadata": {},
   "outputs": [],
   "source": [
    "import pandas as pd"
   ]
  },
  {
   "cell_type": "markdown",
   "id": "1efbdbd6",
   "metadata": {},
   "source": [
    "# 1.2 Lendo a planilha"
   ]
  },
  {
   "cell_type": "code",
   "execution_count": 5,
   "id": "917d909e",
   "metadata": {},
   "outputs": [],
   "source": [
    "df = pd.read_csv(\"../../data/raw/DH_2022_Br_Regioes_20240423.xlsx - Total.csv\")"
   ]
  },
  {
   "cell_type": "markdown",
   "id": "81dfc749",
   "metadata": {},
   "source": [
    "# 1.3 Visualizar primeiras linhas"
   ]
  },
  {
   "cell_type": "code",
   "execution_count": 6,
   "id": "313517cf",
   "metadata": {},
   "outputs": [
    {
     "name": "stdout",
     "output_type": "stream",
     "text": [
      "   N        Região  Rústicos Improvisados Habitação Precária  Cômodos  \\\n",
      "0  1         Norte   116.993      214.269            331.262   16.922   \n",
      "1  2      Nordeste   272.979      430.277            703.256   17.606   \n",
      "2  3       Sudeste    51.918      284.993            336.911   56.634   \n",
      "3  4           Sul   125.881       67.483            193.364    5.734   \n",
      "4  5  Centro-Oeste    37.770       80.090            117.860   14.653   \n",
      "5  6        Brasil   605.542    1.077.112          1.682.654  111.548   \n",
      "\n",
      "  Unidade Convivente Déficit Coabitação       Ônus  \\\n",
      "0                    240.480    257.402    184.665   \n",
      "1                    348.848    366.454    691.322   \n",
      "2                    427.698    484.332  1.622.398   \n",
      "3                     92.048     97.782    446.481   \n",
      "4                     69.257     83.909    297.915   \n",
      "5                  1.178.331  1.289.879  3.242.780   \n",
      "\n",
      "  Déficit Habitacional (Habitação Precária + Coabitação + Ônus)  \n",
      "0                                            773.329             \n",
      "1                                          1.761.032             \n",
      "2                                          2.443.642             \n",
      "3                                            737.626             \n",
      "4                                            499.685             \n",
      "5                                          6.215.313             \n"
     ]
    }
   ],
   "source": [
    "print(df)"
   ]
  },
  {
   "cell_type": "markdown",
   "id": "89568e6d",
   "metadata": {},
   "source": [
    "# 1.4.1 Remover linha de total"
   ]
  },
  {
   "cell_type": "code",
   "execution_count": 45,
   "id": "d1313547",
   "metadata": {},
   "outputs": [],
   "source": [
    "df = df[df[\"Região\"] != \"Brasil\"]"
   ]
  },
  {
   "cell_type": "markdown",
   "id": "63391e18",
   "metadata": {},
   "source": [
    "# 1.4.2 Renomear colunas"
   ]
  },
  {
   "cell_type": "code",
   "execution_count": 46,
   "id": "a1db472a",
   "metadata": {},
   "outputs": [],
   "source": [
    "novos_nomes = [\n",
    "    \"regiao\", \"rusticos\", \"improvisados\", \"habitacao_precaria\", \"comodos\",\n",
    "    \"unidade_convivente_deficit\", \"coabitacao\", \"onus\", \"deficit_habitacional\"\n",
    "]\n",
    "\n",
    "df = df.iloc[:, :len(novos_nomes)]  # Limita colunas\n",
    "df.columns = novos_nomes"
   ]
  },
  {
   "cell_type": "code",
   "execution_count": 47,
   "id": "bd75c78b",
   "metadata": {},
   "outputs": [
    {
     "data": {
      "text/html": [
       "<div>\n",
       "<style scoped>\n",
       "    .dataframe tbody tr th:only-of-type {\n",
       "        vertical-align: middle;\n",
       "    }\n",
       "\n",
       "    .dataframe tbody tr th {\n",
       "        vertical-align: top;\n",
       "    }\n",
       "\n",
       "    .dataframe thead th {\n",
       "        text-align: right;\n",
       "    }\n",
       "</style>\n",
       "<table border=\"1\" class=\"dataframe\">\n",
       "  <thead>\n",
       "    <tr style=\"text-align: right;\">\n",
       "      <th></th>\n",
       "      <th>regiao</th>\n",
       "      <th>rusticos</th>\n",
       "      <th>improvisados</th>\n",
       "      <th>habitacao_precaria</th>\n",
       "      <th>comodos</th>\n",
       "      <th>unidade_convivente_deficit</th>\n",
       "      <th>coabitacao</th>\n",
       "      <th>onus</th>\n",
       "      <th>deficit_habitacional</th>\n",
       "    </tr>\n",
       "  </thead>\n",
       "  <tbody>\n",
       "    <tr>\n",
       "      <th>0</th>\n",
       "      <td>1</td>\n",
       "      <td>Norte</td>\n",
       "      <td>116.993</td>\n",
       "      <td>214.269</td>\n",
       "      <td>331.262</td>\n",
       "      <td>16.922</td>\n",
       "      <td>240.480</td>\n",
       "      <td>257.402</td>\n",
       "      <td>184.665</td>\n",
       "    </tr>\n",
       "    <tr>\n",
       "      <th>1</th>\n",
       "      <td>2</td>\n",
       "      <td>Nordeste</td>\n",
       "      <td>272.979</td>\n",
       "      <td>430.277</td>\n",
       "      <td>703.256</td>\n",
       "      <td>17.606</td>\n",
       "      <td>348.848</td>\n",
       "      <td>366.454</td>\n",
       "      <td>691.322</td>\n",
       "    </tr>\n",
       "    <tr>\n",
       "      <th>2</th>\n",
       "      <td>3</td>\n",
       "      <td>Sudeste</td>\n",
       "      <td>51.918</td>\n",
       "      <td>284.993</td>\n",
       "      <td>336.911</td>\n",
       "      <td>56.634</td>\n",
       "      <td>427.698</td>\n",
       "      <td>484.332</td>\n",
       "      <td>1.622.398</td>\n",
       "    </tr>\n",
       "    <tr>\n",
       "      <th>3</th>\n",
       "      <td>4</td>\n",
       "      <td>Sul</td>\n",
       "      <td>125.881</td>\n",
       "      <td>67.483</td>\n",
       "      <td>193.364</td>\n",
       "      <td>5.734</td>\n",
       "      <td>92.048</td>\n",
       "      <td>97.782</td>\n",
       "      <td>446.481</td>\n",
       "    </tr>\n",
       "    <tr>\n",
       "      <th>4</th>\n",
       "      <td>5</td>\n",
       "      <td>Centro-Oeste</td>\n",
       "      <td>37.770</td>\n",
       "      <td>80.090</td>\n",
       "      <td>117.860</td>\n",
       "      <td>14.653</td>\n",
       "      <td>69.257</td>\n",
       "      <td>83.909</td>\n",
       "      <td>297.915</td>\n",
       "    </tr>\n",
       "  </tbody>\n",
       "</table>\n",
       "</div>"
      ],
      "text/plain": [
       "   regiao      rusticos  improvisados habitacao_precaria  comodos  \\\n",
       "0       1         Norte       116.993            214.269  331.262   \n",
       "1       2      Nordeste       272.979            430.277  703.256   \n",
       "2       3       Sudeste        51.918            284.993  336.911   \n",
       "3       4           Sul       125.881             67.483  193.364   \n",
       "4       5  Centro-Oeste        37.770             80.090  117.860   \n",
       "\n",
       "   unidade_convivente_deficit coabitacao     onus deficit_habitacional  \n",
       "0                      16.922    240.480  257.402              184.665  \n",
       "1                      17.606    348.848  366.454              691.322  \n",
       "2                      56.634    427.698  484.332            1.622.398  \n",
       "3                       5.734     92.048   97.782              446.481  \n",
       "4                      14.653     69.257   83.909              297.915  "
      ]
     },
     "execution_count": 47,
     "metadata": {},
     "output_type": "execute_result"
    }
   ],
   "source": [
    "df.head()"
   ]
  },
  {
   "cell_type": "markdown",
   "id": "16a26182",
   "metadata": {},
   "source": [
    "# 1.4.3 Remover ponto dos números e converter para inteiros\n"
   ]
  },
  {
   "cell_type": "code",
   "execution_count": 50,
   "id": "20dcb624",
   "metadata": {},
   "outputs": [
    {
     "name": "stdout",
     "output_type": "stream",
     "text": [
      "regiao                         int64\n",
      "rusticos                      object\n",
      "improvisados                   int64\n",
      "habitacao_precaria             int64\n",
      "comodos                        int64\n",
      "unidade_convivente_deficit     int64\n",
      "coabitacao                     int64\n",
      "onus                           int64\n",
      "deficit_habitacional           int64\n",
      "dtype: object\n",
      "   regiao      rusticos  improvisados  habitacao_precaria  comodos  \\\n",
      "0       1         Norte        116993              214269   331262   \n",
      "1       2      Nordeste        272979              430277   703256   \n",
      "2       3       Sudeste         51918              284993   336911   \n",
      "3       4           Sul        125881               67483   193364   \n",
      "4       5  Centro-Oeste          3777               80090   117860   \n",
      "\n",
      "   unidade_convivente_deficit  coabitacao    onus  deficit_habitacional  \n",
      "0                       16922      240480  257402                184665  \n",
      "1                       17606      348848  366454                691322  \n",
      "2                       56634      427698  484332               1622398  \n",
      "3                        5734       92048   97782                446481  \n",
      "4                       14653       69257   83909                297915  \n"
     ]
    }
   ],
   "source": [
    "# Lista de colunas que NÃO serão convertidas\n",
    "colunas_excluir = [\"regiao\", \"rusticos\"]\n",
    "\n",
    "# Seleciona as colunas a converter\n",
    "colunas_converter = [col for col in df.columns if col not in colunas_excluir]\n",
    "\n",
    "# Loop para conversão\n",
    "for col in colunas_converter:\n",
    "    df[col] = (\n",
    "        df[col]\n",
    "        .astype(str)\n",
    "        .str.replace(\".\", \"\", regex=False)  # remove separador de milhar\n",
    "        .str.replace(\",\", \".\", regex=False)  # troca vírgula por ponto\n",
    "    )\n",
    "    df[col] = pd.to_numeric(df[col], errors=\"coerce\")\n",
    "\n",
    "# Conferir resultado\n",
    "print(df.dtypes)\n",
    "print(df.head())\n"
   ]
  }
 ],
 "metadata": {
  "kernelspec": {
   "display_name": "venv (3.12.8)",
   "language": "python",
   "name": "python3"
  },
  "language_info": {
   "codemirror_mode": {
    "name": "ipython",
    "version": 3
   },
   "file_extension": ".py",
   "mimetype": "text/x-python",
   "name": "python",
   "nbconvert_exporter": "python",
   "pygments_lexer": "ipython3",
   "version": "3.12.8"
  }
 },
 "nbformat": 4,
 "nbformat_minor": 5
}
